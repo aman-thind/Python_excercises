{
 "cells": [
  {
   "cell_type": "markdown",
   "metadata": {},
   "source": [
    "The following program takes the value in kilometers and gives output in miles"
   ]
  },
  {
   "cell_type": "code",
   "execution_count": null,
   "metadata": {},
   "outputs": [],
   "source": [
    "kilometer= float(input('Enter value in kilometers ')) \n",
    "miles = kilometer * 0.6214\n",
    "print(\"It's equal to\", miles,\"miles\")"
   ]
  },
  {
   "cell_type": "markdown",
   "metadata": {},
   "source": [
    "The following program checks whether the value entered is a prime number or not"
   ]
  },
  {
   "cell_type": "code",
   "execution_count": null,
   "metadata": {},
   "outputs": [],
   "source": [
    "num= int(input('Enter any number '))\n",
    "if num > 1:\n",
    "    for i in range(2,num):\n",
    "        if num % i==0:\n",
    "            print(num,'is not a prime number')\n",
    "            break\n",
    "        else:\n",
    "            print(num,'is a prime number')\n",
    "            break\n",
    "else:\n",
    "    print(num,'is not a prime number')"
   ]
  },
  {
   "cell_type": "markdown",
   "metadata": {},
   "source": [
    "The following program takes the price, federal tax and provincial tax and returns the total sales price"
   ]
  },
  {
   "cell_type": "code",
   "execution_count": null,
   "metadata": {},
   "outputs": [],
   "source": [
    "price= float(input('Enter price '))\n",
    "federal= float(input('Enter federal tax '))\n",
    "provincial= float(input('Enter provincial tax '))\n",
    "\n",
    "total_sales_price= price+ federal +provincial\n",
    "print ('Total sales price is', total_sales_price)"
   ]
  },
  {
   "cell_type": "markdown",
   "metadata": {},
   "source": [
    "The following program can perform arithmetic operations between two values"
   ]
  },
  {
   "cell_type": "code",
   "execution_count": null,
   "metadata": {},
   "outputs": [],
   "source": [
    "num1= float(input('Enter the first number: '))\n",
    "num2= float(input('Enter the second number: '))\n",
    "\n",
    "print('Which math operation would you like to perform?')\n",
    "operation= input('Enter any of these characters + for addition, - for subraction, / for division, * for multiplication: ')\n",
    "\n",
    "result= 0\n",
    "if operation =='+':\n",
    "    result= num1 + num2\n",
    "elif operation == '-':\n",
    "    result= num1 - num2\n",
    "elif operation== '/':\n",
    "    result= num1/num2\n",
    "elif operation == '*':\n",
    "    result= num1*num2\n",
    "else:\n",
    "    print('Character not recognized')\n",
    "    \n",
    "print(num1, operation, num2,':', result)"
   ]
  }
 ],
 "metadata": {
  "kernelspec": {
   "display_name": "Python 3",
   "language": "python",
   "name": "python3"
  },
  "language_info": {
   "codemirror_mode": {
    "name": "ipython",
    "version": 3
   },
   "file_extension": ".py",
   "mimetype": "text/x-python",
   "name": "python",
   "nbconvert_exporter": "python",
   "pygments_lexer": "ipython3",
   "version": "3.7.3"
  }
 },
 "nbformat": 4,
 "nbformat_minor": 2
}
